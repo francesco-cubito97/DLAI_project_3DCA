{
  "nbformat": 4,
  "nbformat_minor": 0,
  "metadata": {
    "colab": {
      "name": "DLAI_project_Growing3D-CA.ipynb",
      "provenance": []
    },
    "kernelspec": {
      "name": "python3",
      "display_name": "Python 3"
    },
    "language_info": {
      "name": "python"
    }
  },
  "cells": [
    {
      "cell_type": "markdown",
      "source": [
        "# Deep Learning and Applied AI project\n",
        "## *Growing 3D Neural Cellar Automaton*\n",
        "The project consists in creating a cellular automaton (CA), that is a virtual lattice composed of cells with a certain state governed by certain rules, and to learn how to reproduce a specific pattern. To make it possible our job is to create a neural network able to understand the underling set of rules needed to drive the complex system into the desired state.\n",
        "\n",
        "The state of each cell is linked to the neighbors cells' states, so is better to use a convolutional operation to modify them accordingly. Specifically, because we are trying to create a 3D CA, we will use a **3D convolutional operator**.\n",
        "\n",
        "## Steps:\n",
        "- [ ] load and visualize 3D `.binvox` files in python;\n",
        "- [ ] write the 3D version of the paper's 2D one;\n",
        "- [ ] train the neural CA using only the persistence/regeneration version;\n",
        "- [ ] test the neural CA on partially deleted models(we need a particular function to delete portion of them);\n",
        "- [ ] write the relation; \n"
      ],
      "metadata": {
        "id": "pv2GcLjXD0uT"
      }
    },
    {
      "cell_type": "code",
      "source": [
        "# Clone the github repo on content folder\n",
        "# of google colab machine\n",
        "!git clone https://github.com/francesco-cubito97/DLAI_project_3DCA.git\n",
        "\n",
        "MAIN_FOLDER = \"/content/DLAI_project_3DCA\"\n",
        "\n",
        "# Append to system path to use elements\n",
        "import sys\n",
        "sys.path.append(MAIN_FOLDER)"
      ],
      "metadata": {
        "id": "BUiXe2OATX2f"
      },
      "execution_count": 3,
      "outputs": []
    },
    {
      "cell_type": "code",
      "execution_count": 9,
      "metadata": {
        "id": "wKCB8lZMDocL"
      },
      "outputs": [],
      "source": [
        "# Import all needed components\n",
        "import torch\n",
        "import torch.nn as nn\n",
        "import torch.optim as optim\n",
        "import torchvision\n",
        "import plot3D\n",
        "import voxelgrid\n",
        "\n",
        "import binvox_rw"
      ]
    }
  ]
}