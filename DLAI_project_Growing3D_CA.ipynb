{
  "nbformat": 4,
  "nbformat_minor": 0,
  "metadata": {
    "colab": {
      "name": "DLAI_project_Growing3D-CA.ipynb",
      "provenance": []
    },
    "kernelspec": {
      "name": "python3",
      "display_name": "Python 3"
    },
    "language_info": {
      "name": "python"
    }
  },
  "cells": [
    {
      "cell_type": "markdown",
      "source": [
        "# Deep Learning and Applied AI project\n",
        "## *Growing 3D Neural Cellar Automaton*\n",
        "The project consists in creating a cellular automaton (CA), that is a virtual lattice composed of cells with a certain state governed by certain rules, and to learn how to reproduce a specific pattern. To make it possible our job is to create a neural network able to understand the underling set of rules needed to drive the complex system into the desired state.\n",
        "\n",
        "The state of each cell is linked to the neighbors cells' states, so is better to use a convolutional operation to modify them accordingly. Specifically, because we are trying to create a 3D CA, we will use a **3D convolutional operator**.\n",
        "\n",
        "## Steps:\n",
        "- [ ] load and visualize 3D `.binvox` files in python;\n",
        "- [ ] write the 3D version of the paper's 2D one;\n",
        "- [ ] train the neural CA using only the persistence/regeneration version;\n",
        "- [ ] test the neural CA on partially deleted models(we need a particular function to delete portion of them);\n",
        "- [ ] write the relation; \n"
      ],
      "metadata": {
        "id": "pv2GcLjXD0uT"
      }
    },
    {
      "cell_type": "code",
      "source": [
        "# Mount on google drive\n",
        "from google.colab import drive\n",
        "drive.mount(\"/content/gdrive\")\n",
        "\n",
        "MAIN_FOLDER = \"/content/gdrive/MyDrive/3D_CA_folder\"\n",
        "\n",
        "# Append to system path to use elements\n",
        "import sys\n",
        "sys.path.append(MAIN_FOLDER)"
      ],
      "metadata": {
        "colab": {
          "base_uri": "https://localhost:8080/"
        },
        "id": "BUiXe2OATX2f",
        "outputId": "5635d876-bcee-461d-bf13-bc1f6a5fc535"
      },
      "execution_count": 1,
      "outputs": [
        {
          "output_type": "stream",
          "name": "stdout",
          "text": [
            "Mounted at /content/gdrive\n"
          ]
        }
      ]
    },
    {
      "cell_type": "code",
      "execution_count": null,
      "metadata": {
        "id": "wKCB8lZMDocL"
      },
      "outputs": [],
      "source": [
        "# Import all needed components\n"
      ]
    }
  ]
}